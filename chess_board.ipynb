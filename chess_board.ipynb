{
 "cells": [
  {
   "cell_type": "code",
   "execution_count": 5,
   "metadata": {},
   "outputs": [],
   "source": [
    "import numpy as np \n",
    "import matplotlib.pyplot as plt"
   ]
  },
  {
   "cell_type": "code",
   "execution_count": 67,
   "metadata": {},
   "outputs": [
    {
     "name": "stdout",
     "output_type": "stream",
     "text": [
      "False\n"
     ]
    },
    {
     "data": {
      "image/png": "[encoded data removed]",
      "text/plain": [
       "<Figure size 432x288 with 1 Axes>"
      ]
     },
     "metadata": {
      "needs_background": "light"
     },
     "output_type": "display_data"
    }
   ],
   "source": [
    "class ChessBoard:\n",
    "    red = []\n",
    "    blue = []\n",
    "    def __init__(self):\n",
    "        self.grid = np.zeros([8,8,3])\n",
    "        for i in range(8):\n",
    "            for j in range(8):\n",
    "                if (i%2 == 0 and j%2 == 0)  or (i%2 == 1 and j%2 == 1) :\n",
    "                    self.grid[i,j]= [1,1,1]\n",
    "    def render(self):\n",
    "         plt.imshow(self.grid)\n",
    "            \n",
    "    def add_red(self, x, y):\n",
    "        self.grid[x,y] = [1, 0.2, 0]\n",
    "        ChessBoard.red = [x, y]\n",
    "    def add_blue(self, x, y):\n",
    "        self.grid[x,y] = [0,1,1]\n",
    "        ChessBoard.blue = [x, y]\n",
    "    def is_under_attack(self):\n",
    "        if ChessBoard.red[0] == ChessBoard.blue[0] or ChessBoard.red[1] == ChessBoard.blue[1] or abs(ChessBoard.red[0] - ChessBoard.blue[0]) == abs(ChessBoard.red[1] - ChessBoard.blue[1]):\n",
    "            return True\n",
    "        return False\n",
    "        \n",
    "        \n",
    "CB = ChessBoard()\n",
    "CB.add_red(5, 3)\n",
    "CB.add_blue(1, 4)\n",
    "print(CB.is_under_attack())\n",
    "CB.render()\n",
    "\n"
   ]
  },
  {
   "cell_type": "code",
   "execution_count": 68,
   "metadata": {},
   "outputs": [
    {
     "name": "stdout",
     "output_type": "stream",
     "text": [
      "paased\n"
     ]
    }
   ],
   "source": [
    "\n",
    "CB = ChessBoard()\n",
    "CB.add_red(5, 3)\n",
    "CB.add_blue(5, 6)\n",
    "excepted = True\n",
    "acctual = CB.is_under_attack()\n",
    "assert excepted == acctual\n",
    "print('paased')\n"
   ]
  },
  {
   "cell_type": "code",
   "execution_count": 69,
   "metadata": {},
   "outputs": [
    {
     "name": "stdout",
     "output_type": "stream",
     "text": [
      "paased\n"
     ]
    }
   ],
   "source": [
    "CB = ChessBoard()\n",
    "CB.add_red(5, 3)\n",
    "CB.add_blue(7, 3)\n",
    "excepted = True\n",
    "acctual = CB.is_under_attack()\n",
    "assert excepted == acctual\n",
    "print('paased')"
   ]
  },
  {
   "cell_type": "code",
   "execution_count": 70,
   "metadata": {},
   "outputs": [
    {
     "name": "stdout",
     "output_type": "stream",
     "text": [
      "paased\n"
     ]
    }
   ],
   "source": [
    "\n",
    "CB = ChessBoard()\n",
    "CB.add_red(5, 3)\n",
    "CB.add_blue(2, 6)\n",
    "excepted = True\n",
    "acctual = CB.is_under_attack()\n",
    "assert excepted == acctual\n",
    "print('paased')"
   ]
  },
  {
   "cell_type": "code",
   "execution_count": 71,
   "metadata": {},
   "outputs": [
    {
     "name": "stdout",
     "output_type": "stream",
     "text": [
      "paased\n"
     ]
    }
   ],
   "source": [
    "\n",
    "CB = ChessBoard()\n",
    "CB.add_red(5, 3)\n",
    "CB.add_blue(1, 4)\n",
    "excepted = False\n",
    "acctual = CB.is_under_attack()\n",
    "assert excepted == acctual\n",
    "print('paased')"
   ]
  },
  {
   "cell_type": "code",
   "execution_count": null,
   "metadata": {},
   "outputs": [],
   "source": []
  }
 ],
 "metadata": {
  "kernelspec": {
   "display_name": "Python 3",
   "language": "python",
   "name": "python3"
  },
  "language_info": {
   "codemirror_mode": {
    "name": "ipython",
    "version": 3
   },
   "file_extension": ".py",
   "mimetype": "text/x-python",
   "name": "python",
   "nbconvert_exporter": "python",
   "pygments_lexer": "ipython3",
   "version": "3.9.4"
  },
  "metadata": {
   "interpreter": {
    "hash": "d5934c04669ceb3a4d0e58f409395b005efd443404b627ff0dee8a773618486c"
   }
  }
 },
 "nbformat": 4,
 "nbformat_minor": 4
}
